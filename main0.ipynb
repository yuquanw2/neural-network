{
 "cells": [
  {
   "cell_type": "code",
   "execution_count": 1,
   "metadata": {},
   "outputs": [],
   "source": [
    "import numpy as np\n",
    "from numpy import genfromtxt\n",
    "\n",
    "import matplotlib\n",
    "matplotlib.use('agg')\n",
    "from matplotlib import pyplot as plt\n",
    "from matplotlib.colors import LogNorm\n",
    "\n",
    "import tensorflow as tf\n",
    "import Utools as utls #modified AnaTools\n",
    "import Ptools4Jup as ptls\n",
    "\n",
    "#plt.ion()  #interactive mode on\n",
    "%matplotlib inline"
   ]
  },
  {
   "cell_type": "code",
   "execution_count": 2,
   "metadata": {
    "collapsed": true
   },
   "outputs": [],
   "source": [
    "# Set the path pointing to the data files:\n",
    "path = '/Users/Yuquan/Documents/SLAC/tutorial/'"
   ]
  },
  {
   "cell_type": "code",
   "execution_count": 3,
   "metadata": {
    "scrolled": true
   },
   "outputs": [
    {
     "name": "stdout",
     "output_type": "stream",
     "text": [
      "CPU times: user 21.1 s, sys: 2.04 s, total: 23.1 s\n",
      "Wall time: 25.3 s\n"
     ]
    }
   ],
   "source": [
    "%%time\n",
    "\n",
    "# Read the .dat file and drop the header:\n",
    "test_data = utls.readBoolMike(path + 'data/test/e1chRNWFs_19.dat')\n",
    "\n",
    "# Seperate the waveforms and the labels:\n",
    "x_test,y_test = utls.sepXY(test_data)\n",
    "\n",
    "# Make a baseline correction:\n",
    "x_test = utls.baseCorrection(x_test)\n",
    "\n",
    "# Store the data in a DataSet object:\n",
    "data_test = utls.DataSet(x_test,y_test)"
   ]
  },
  {
   "cell_type": "code",
   "execution_count": 4,
   "metadata": {},
   "outputs": [
    {
     "name": "stdout",
     "output_type": "stream",
     "text": [
      "Samlpe Number: 8202\n",
      "True energy [keV]: 0.0\n"
     ]
    },
    {
     "data": {
      "image/png": "[encoded data removed]",
      "text/plain": [
       "<matplotlib.figure.Figure at 0x1160e5f98>"
      ]
     },
     "metadata": {},
     "output_type": "display_data"
    }
   ],
   "source": [
    "sizeOfSet = data_test.images.shape[0]\n",
    "sample = np.random.randint(sizeOfSet)\n",
    "\n",
    "axes = plt.gca()\n",
    "axes.set_xlim([0,1000])\n",
    "axes.set_ylim([-2000,2000])\n",
    "\n",
    "print (\"Samlpe Number: \" + str(sample))\n",
    "print (\"True energy [keV]: \" + str(y_test[sample,0]))\n",
    "fig = plt.plot(x_test[sample])"
   ]
  },
  {
   "cell_type": "code",
   "execution_count": 5,
   "metadata": {},
   "outputs": [
    {
     "data": {
      "image/png": "[encoded data removed]",
      "text/plain": [
       "<matplotlib.figure.Figure at 0x116043828>"
      ]
     },
     "metadata": {},
     "output_type": "display_data"
    }
   ],
   "source": [
    "plt.hist(y_test, 50, normed=1)\n",
    "plt.axis([50, 3000, 0, 0.00025])\n",
    "plt.show;"
   ]
  },
  {
   "cell_type": "code",
   "execution_count": 7,
   "metadata": {},
   "outputs": [
    {
     "name": "stdout",
     "output_type": "stream",
     "text": [
      "Loading train date: file 0\n",
      "CPU times: user 18.9 s, sys: 1.4 s, total: 20.3 s\n",
      "Wall time: 20.9 s\n"
     ]
    }
   ],
   "source": [
    "%%time\n",
    "\n",
    "nFiles = 1\n",
    "\n",
    "train_data = np.empty((0,1001),np.float32)\n",
    "\n",
    "for i in range(nFiles):\n",
    "    print(\"Loading train date: file {0}\".format(i))\n",
    "    train_temp = utls.readBoolMike(path + 'data/train/e1chRNWFs_'+str(i)+'.dat')\n",
    "    train_data = np.append(train_data,train_temp,axis=0)\n",
    "\n",
    "x_train,y_train = utls.sepXY(train_data)\n",
    "x_train = utls.baseCorrection(x_train)\n",
    "data_train = utls.DataSet(x_train,y_train)"
   ]
  },
  {
   "cell_type": "code",
   "execution_count": 8,
   "metadata": {
    "collapsed": true
   },
   "outputs": [],
   "source": [
    "x = tf.placeholder(tf.float32,[None,1000])\n",
    "y_ = tf.placeholder(tf.float32,[None,1])\n",
    "\n",
    "# Input layer\n",
    "W0 = tf.get_variable(\"W0\",shape=[1000,500],initializer=tf.contrib.layers.xavier_initializer())\n",
    "b0 = utls.bias_var([500])\n",
    "h0 = tf.nn.relu(tf.matmul(x,W0)+b0)\n",
    "\n",
    "keep_prob = tf.placeholder(tf.float32)\n",
    "h0_drop = tf.nn.dropout(h0,keep_prob)\n",
    "\n",
    "# Hidden layer 1\n",
    "W1 = tf.get_variable(\"W1\",shape=[500,100],initializer=tf.contrib.layers.xavier_initializer())\n",
    "b1 = utls.bias_var([100])\n",
    "h1 = tf.nn.relu(tf.matmul(h0_drop,W1)+b1)\n",
    "\n",
    "# Hidden layer 2\n",
    "#W2 = tf.get_variable(\"W2\",shape=[200,100],initializer=tf.contrib.layers.xavier_initializer())\n",
    "#b2 = utls.bias_var([100])\n",
    "#h2 = tf.nn.relu(tf.matmul(h1,W2)+b2)\n",
    "\n",
    "# Hidden layer 3\n",
    "#W3 = tf.get_variable(\"W3\",shape=[100,40],initializer=tf.contrib.layers.xavier_initializer())\n",
    "#b3 = utls.bias_var([40])\n",
    "#h3 = tf.nn.relu(tf.matmul(h2,W3)+b3)\n",
    "\n",
    "# Hidden layer 4\n",
    "#W4 = tf.get_variable(\"W4\",shape=[40,10],initializer=tf.contrib.layers.xavier_initializer())\n",
    "#b4 = utls.bias_var([10])\n",
    "#h4 = tf.nn.relu(tf.matmul(h3,W4)+b4)\n",
    "\n",
    "# Hidden layer 5\n",
    "W5 = tf.get_variable(\"W5\",shape=[100,2],initializer=tf.contrib.layers.xavier_initializer())\n",
    "b5 = utls.bias_var([2])\n",
    "h5 = tf.nn.relu(tf.matmul(h1,W5)+b5)\n",
    "\n",
    "# Output layer\n",
    "W_last = tf.get_variable(\"W_last\",shape=[2,1],initializer=tf.contrib.layers.xavier_initializer())\n",
    "b_last = utls.bias_var([1])\n",
    "y = tf.nn.relu(tf.matmul(h5,W_last)+b_last)"
   ]
  },
  {
   "cell_type": "code",
   "execution_count": 9,
   "metadata": {
    "collapsed": true
   },
   "outputs": [],
   "source": [
    "mse = tf.reduce_mean(tf.square(y-y_))\n",
    "\n",
    "#regularizers = (tf.nn.l2_loss(W0)+tf.nn.l2_loss(b0)+tf.nn.l2_loss(W1)+tf.nn.l2_loss(b1)+\n",
    "#tf.nn.l2_loss(W2)+tf.nn.l2_loss(b2)+tf.nn.l2_loss(W3)+tf.nn.l2_loss(b3)+\n",
    "#tf.nn.l2_loss(W4)+tf.nn.l2_loss(b4)+tf.nn.l2_loss(W5)+tf.nn.l2_loss(b5)+\n",
    "#tf.nn.l2_loss(W_last)+tf.nn.l2_loss(b_last))\n",
    "\n",
    "regularizers = (tf.nn.l2_loss(W0)+tf.nn.l2_loss(b0)+tf.nn.l2_loss(W1)+tf.nn.l2_loss(b1)\n",
    "+tf.nn.l2_loss(W5)+tf.nn.l2_loss(b5)+tf.nn.l2_loss(W_last)+tf.nn.l2_loss(b_last))\n",
    "\n",
    "\n",
    "\n",
    "loss = mse + regularizers*1.e-4"
   ]
  },
  {
   "cell_type": "code",
   "execution_count": 10,
   "metadata": {
    "collapsed": true
   },
   "outputs": [],
   "source": [
    "# the optimizer itself:\n",
    "opt = tf.train.AdamOptimizer()\n",
    "\n",
    "# the vanilla operation trains the whole network\n",
    "opt_operation = opt.minimize(loss)\n",
    "\n",
    "# this allows to train a layer individualy\n",
    "opt_operation_0 = opt.minimize(loss, var_list=[W0,b0])\n",
    "opt_operation_1 = opt.minimize(loss, var_list=[W1,b1])\n",
    "#opt_operation_2 = opt.minimize(loss, var_list=[W2,b2])\n",
    "#opt_operation_3 = opt.minimize(loss, var_list=[W3,b3])\n",
    "#opt_operation_4 = opt.minimize(loss, var_list=[W4,b4])\n",
    "opt_operation_5 = opt.minimize(loss, var_list=[W5,b5])\n",
    "opt_operation_last = opt.minimize(loss, var_list=[W_last,b_last])"
   ]
  },
  {
   "cell_type": "code",
   "execution_count": 11,
   "metadata": {
    "collapsed": true
   },
   "outputs": [],
   "source": [
    "saver = tf.train.Saver()"
   ]
  },
  {
   "cell_type": "code",
   "execution_count": 12,
   "metadata": {},
   "outputs": [
    {
     "name": "stdout",
     "output_type": "stream",
     "text": [
      "Model saved in file: /Users/Yuquan/Documents/SLAC/tutorial/check-points/start.ckpt\n"
     ]
    }
   ],
   "source": [
    "# start a TensorFlow session:\n",
    "with tf.Session() as sess:\n",
    "    \n",
    "    # random initialization:\n",
    "    sess.run(tf.global_variables_initializer())\n",
    "    \n",
    "    # save the weights in a file\n",
    "    save_path = saver.save(sess, path + \"check-points/start.ckpt\")\n",
    "    print(\"Model saved in file: %s\" % save_path)"
   ]
  },
  {
   "cell_type": "code",
   "execution_count": 14,
   "metadata": {},
   "outputs": [
    {
     "name": "stdout",
     "output_type": "stream",
     "text": [
      "test mse 992407\n",
      "test mse 984399\n",
      "test mse 983404\n",
      "test mse 965330\n",
      "test mse 776423\n",
      "Yay! Start saved in file: /Users/Yuquan/Documents/SLAC/tutorial/check-points/start.ckpt\n"
     ]
    }
   ],
   "source": [
    "# start a TensorFlow session:\n",
    "with tf.Session() as sess:\n",
    "    Q_good_start = 0\n",
    "    \n",
    "    # this loop selects a reasonable starting point and saves it in \"start.ckpt\"\n",
    "    while Q_good_start == 0:\n",
    "        sess.run(tf.global_variables_initializer())\n",
    "        save_path = saver.save(sess, path + \"check-points/start.ckpt\")\n",
    "        \n",
    "        # this loop takes the random initialization and trains the net for 100 steps to see if it learns.\n",
    "        for i in range(100):\n",
    "            batch = data_train.next_batch(500)\n",
    "            sess.run([opt_operation],feed_dict={x:batch[0],y_:batch[1],keep_prob:1.0})\n",
    "        \n",
    "        # test if the net learned\n",
    "        tce = mse.eval(feed_dict={x:data_test.images,y_:data_test.labels,keep_prob:1.0},session=sess)\n",
    "        print(\"test mse %g\"%(tce))\n",
    "            \n",
    "        if tce < 800000:\n",
    "            Q_good_start = 1\n",
    "            print(\"Yay! Start saved in file: %s\" % save_path)"
   ]
  },
  {
   "cell_type": "code",
   "execution_count": 16,
   "metadata": {
    "scrolled": true
   },
   "outputs": [
    {
     "name": "stdout",
     "output_type": "stream",
     "text": [
      "INFO:tensorflow:Restoring parameters from /Users/Yuquan/Documents/SLAC/tutorial/check-points/start.ckpt\n",
      "step 0\n",
      "Train cycle 1 ended with a test accuracy of: 978508.56\n",
      "CPU times: user 2min 44s, sys: 10.7 s, total: 2min 55s\n",
      "Wall time: 1min 4s\n"
     ]
    }
   ],
   "source": [
    "%%time\n",
    "\n",
    "# define how to train this training cycle\n",
    "batchSize = 500\n",
    "trainSteps = 1000\n",
    "\n",
    "# start a TensorFlow session:\n",
    "with tf.Session() as sess:\n",
    "    \n",
    "    # restore the network's weights\n",
    "    sess.run(tf.global_variables_initializer())\n",
    "    saver.restore(sess,path + \"check-points/start.ckpt\")\n",
    "    \n",
    "    # the train cycle\n",
    "    for i in range(trainSteps):\n",
    "        # grap a train batch\n",
    "        batch = data_train.next_batch(batchSize)\n",
    "        \n",
    "        # run the optimizier - train the net!\n",
    "        sess.run([opt_operation],feed_dict={x:batch[0],y_:batch[1],keep_prob:1.0})\n",
    "        \n",
    "        # every now and then save the weights and print some stuff\n",
    "        if i%1000 == 0:\n",
    "            save_path = saver.save(sess, path + \"check-points/temp.ckpt\")\n",
    "            print(\"step %d\"%(i))\n",
    "    \n",
    "    # end this train cycle\n",
    "    print(\"Train cycle 1 ended with a test accuracy of: {0}\".format(\"%.2f\" % mse.eval(feed_dict={x:data_test.images,y_:data_test.labels,keep_prob:1.})))\n",
    "    save_path = saver.save(sess, path + \"check-points/cycle1-end.ckpt\")"
   ]
  },
  {
   "cell_type": "code",
   "execution_count": 18,
   "metadata": {
    "scrolled": true
   },
   "outputs": [
    {
     "name": "stdout",
     "output_type": "stream",
     "text": [
      "INFO:tensorflow:Restoring parameters from /Users/Yuquan/Documents/SLAC/tutorial/check-points/start.ckpt\n",
      "Code reached iterration: 0 with a train mse of 13064179.0\n",
      "Code reached iterration: 1000 with a train mse of 980183.3125\n",
      "Code reached iterration: 2000 with a train mse of 987858.625\n",
      "Code reached iterration: 3000 with a train mse of 987325.3125\n",
      "Code reached iterration: 4000 with a train mse of 985948.0625\n",
      "Train cycle 1 ended with a test accuracy of: 984023.56\n"
     ]
    },
    {
     "data": {
      "image/png": "[encoded data removed]",
      "text/plain": [
       "<matplotlib.figure.Figure at 0x10a74e9b0>"
      ]
     },
     "metadata": {},
     "output_type": "display_data"
    },
    {
     "name": "stdout",
     "output_type": "stream",
     "text": [
      "CPU times: user 16min 45s, sys: 1min 3s, total: 17min 48s\n",
      "Wall time: 6min 51s\n"
     ]
    },
    {
     "data": {
      "text/plain": [
       "<matplotlib.figure.Figure at 0x15726f438>"
      ]
     },
     "metadata": {},
     "output_type": "display_data"
    }
   ],
   "source": [
    "%%time\n",
    "sizeOfSet = data_train.images.shape[0]\n",
    "train_time = []\n",
    "i=0\n",
    "trainloss = []\n",
    "testloss = []\n",
    "cycleID = 1\n",
    "\n",
    "# define how to train this training cycle\n",
    "batchSize = 500\n",
    "trainSteps = 5000\n",
    "\n",
    "# start a TensorFlow session:\n",
    "\n",
    "with tf.Session() as sess:\n",
    "    \n",
    "    # restore the network's weights\n",
    "    sess.run(tf.global_variables_initializer())\n",
    "    saver.restore(sess,path + \"check-points/start.ckpt\")\n",
    "\n",
    "    # the train cycle\n",
    "    for j in range(trainSteps):\n",
    "        # grap a train batch\n",
    "        batch = data_train.next_batch(batchSize)\n",
    "        \n",
    "        # run the optimizier - train the net!\n",
    "        sess.run([opt_operation],feed_dict={x:batch[0],y_:batch[1],keep_prob:1.0})\n",
    "        \n",
    "        # count how many samples were used to train\n",
    "        i += batchSize\n",
    "        \n",
    "        # every now and then save the weights and print some stuff\n",
    "        if j%100 == 0:\n",
    "            save_path = saver.save(sess, path + \"check-points/temp.ckpt\")\n",
    "            \n",
    "            train_mse = mse.eval(feed_dict={x:data_train.images,y_:data_train.labels,keep_prob:1.0},session=sess)\n",
    "            trainloss.append(train_mse)\n",
    "            test_mse = mse.eval(feed_dict={x:data_test.images,y_:data_test.labels,keep_prob:1.0},session=sess)\n",
    "            testloss.append(test_mse)\n",
    "            train_time.append(float(i)/sizeOfSet)\n",
    "\n",
    "            if j%1000 == 0:\n",
    "                # ploting output:\n",
    "                ptls.PrintInfo(j,test_mse)\n",
    "        \n",
    "    # end this train cycle\n",
    "    print(\"Train cycle 1 ended with a test accuracy of: {0}\".format(\"%.2f\" % mse.eval(feed_dict={x:data_test.images,y_:data_test.labels,keep_prob:1.})))\n",
    "    save_path = saver.save(sess, path + \"check-points/cycle1-end.ckpt\")\n",
    "    \n",
    "    # learning rate plot\n",
    "    ptls.MSEHist(cycleID,trainloss,testloss,train_time)"
   ]
  },
  {
   "cell_type": "code",
   "execution_count": 20,
   "metadata": {},
   "outputs": [
    {
     "name": "stdout",
     "output_type": "stream",
     "text": [
      "INFO:tensorflow:Restoring parameters from /Users/Yuquan/Documents/SLAC/tutorial/check-points/cycle1-end.ckpt\n",
      "step 0\n",
      "step 100\n",
      "step 200\n",
      "step 300\n",
      "step 400\n",
      "step 500\n",
      "step 600\n",
      "step 700\n",
      "step 800\n",
      "step 900\n",
      "Train cycle 2 ended with a test accuracy of: 986969.19\n"
     ]
    }
   ],
   "source": [
    "# define how to train this training cycle\n",
    "batchSize = 1000\n",
    "trainSteps = 1000\n",
    "opt = tf.train.AdamOptimizer(1.0e-4)\n",
    "\n",
    "# start a TensorFlow session:\n",
    "with tf.Session() as sess:\n",
    "    \n",
    "    # restore the network's weights\n",
    "    sess.run(tf.global_variables_initializer())\n",
    "    saver.restore(sess,path + \"check-points/cycle1-end.ckpt\")\n",
    "    \n",
    "    # the train cycle\n",
    "    for i in range(trainSteps):\n",
    "        # grap a train batch\n",
    "        batch = data_train.next_batch(batchSize)\n",
    "        \n",
    "        # run the optimizier - train the net!\n",
    "        sess.run([opt_operation],feed_dict={x:batch[0],y_:batch[1],keep_prob:1.0})\n",
    "        \n",
    "        # every now and then save the weights and print some stuff\n",
    "        if i%100 == 0:\n",
    "            save_path = saver.save(sess, \"temp.ckpt\")\n",
    "            print(\"step %d\"%(i))\n",
    "    \n",
    "    # end this train cycle\n",
    "    print(\"Train cycle 2 ended with a test accuracy of: {0}\".format(\"%.2f\" % mse.eval(feed_dict={x:data_test.images,y_:data_test.labels,keep_prob:1.})))\n",
    "    save_path = saver.save(sess, \"cycle2-end.ckpt\")"
   ]
  },
  {
   "cell_type": "code",
   "execution_count": null,
   "metadata": {
    "collapsed": true
   },
   "outputs": [],
   "source": [
    "Not fin"
   ]
  },
  {
   "cell_type": "code",
   "execution_count": 22,
   "metadata": {},
   "outputs": [
    {
     "name": "stdout",
     "output_type": "stream",
     "text": [
      "INFO:tensorflow:Restoring parameters from /Users/Yuquan/Documents/SLAC/tutorial/cycle2-end.ckpt\n"
     ]
    },
    {
     "ename": "NotFoundError",
     "evalue": "Unsuccessful TensorSliceReader constructor: Failed to find any matching files for /Users/Yuquan/Documents/SLAC/tutorial/cycle2-end.ckpt\n\t [[Node: save/RestoreV2_1 = RestoreV2[dtypes=[DT_FLOAT], _device=\"/job:localhost/replica:0/task:0/cpu:0\"](_arg_save/Const_0_0, save/RestoreV2_1/tensor_names, save/RestoreV2_1/shape_and_slices)]]\n\nCaused by op 'save/RestoreV2_1', defined at:\n  File \"/Users/Yuquan/anaconda/lib/python3.6/runpy.py\", line 193, in _run_module_as_main\n    \"__main__\", mod_spec)\n  File \"/Users/Yuquan/anaconda/lib/python3.6/runpy.py\", line 85, in _run_code\n    exec(code, run_globals)\n  File \"/Users/Yuquan/anaconda/lib/python3.6/site-packages/ipykernel_launcher.py\", line 16, in <module>\n    app.launch_new_instance()\n  File \"/Users/Yuquan/anaconda/lib/python3.6/site-packages/traitlets/config/application.py\", line 658, in launch_instance\n    app.start()\n  File \"/Users/Yuquan/anaconda/lib/python3.6/site-packages/ipykernel/kernelapp.py\", line 477, in start\n    ioloop.IOLoop.instance().start()\n  File \"/Users/Yuquan/anaconda/lib/python3.6/site-packages/zmq/eventloop/ioloop.py\", line 177, in start\n    super(ZMQIOLoop, self).start()\n  File \"/Users/Yuquan/anaconda/lib/python3.6/site-packages/tornado/ioloop.py\", line 888, in start\n    handler_func(fd_obj, events)\n  File \"/Users/Yuquan/anaconda/lib/python3.6/site-packages/tornado/stack_context.py\", line 277, in null_wrapper\n    return fn(*args, **kwargs)\n  File \"/Users/Yuquan/anaconda/lib/python3.6/site-packages/zmq/eventloop/zmqstream.py\", line 440, in _handle_events\n    self._handle_recv()\n  File \"/Users/Yuquan/anaconda/lib/python3.6/site-packages/zmq/eventloop/zmqstream.py\", line 472, in _handle_recv\n    self._run_callback(callback, msg)\n  File \"/Users/Yuquan/anaconda/lib/python3.6/site-packages/zmq/eventloop/zmqstream.py\", line 414, in _run_callback\n    callback(*args, **kwargs)\n  File \"/Users/Yuquan/anaconda/lib/python3.6/site-packages/tornado/stack_context.py\", line 277, in null_wrapper\n    return fn(*args, **kwargs)\n  File \"/Users/Yuquan/anaconda/lib/python3.6/site-packages/ipykernel/kernelbase.py\", line 283, in dispatcher\n    return self.dispatch_shell(stream, msg)\n  File \"/Users/Yuquan/anaconda/lib/python3.6/site-packages/ipykernel/kernelbase.py\", line 235, in dispatch_shell\n    handler(stream, idents, msg)\n  File \"/Users/Yuquan/anaconda/lib/python3.6/site-packages/ipykernel/kernelbase.py\", line 399, in execute_request\n    user_expressions, allow_stdin)\n  File \"/Users/Yuquan/anaconda/lib/python3.6/site-packages/ipykernel/ipkernel.py\", line 196, in do_execute\n    res = shell.run_cell(code, store_history=store_history, silent=silent)\n  File \"/Users/Yuquan/anaconda/lib/python3.6/site-packages/ipykernel/zmqshell.py\", line 533, in run_cell\n    return super(ZMQInteractiveShell, self).run_cell(*args, **kwargs)\n  File \"/Users/Yuquan/anaconda/lib/python3.6/site-packages/IPython/core/interactiveshell.py\", line 2717, in run_cell\n    interactivity=interactivity, compiler=compiler, result=result)\n  File \"/Users/Yuquan/anaconda/lib/python3.6/site-packages/IPython/core/interactiveshell.py\", line 2821, in run_ast_nodes\n    if self.run_code(code, result):\n  File \"/Users/Yuquan/anaconda/lib/python3.6/site-packages/IPython/core/interactiveshell.py\", line 2881, in run_code\n    exec(code_obj, self.user_global_ns, self.user_ns)\n  File \"<ipython-input-11-18da33d742f9>\", line 1, in <module>\n    saver = tf.train.Saver()\n  File \"/Users/Yuquan/anaconda/lib/python3.6/site-packages/tensorflow/python/training/saver.py\", line 1140, in __init__\n    self.build()\n  File \"/Users/Yuquan/anaconda/lib/python3.6/site-packages/tensorflow/python/training/saver.py\", line 1172, in build\n    filename=self._filename)\n  File \"/Users/Yuquan/anaconda/lib/python3.6/site-packages/tensorflow/python/training/saver.py\", line 688, in build\n    restore_sequentially, reshape)\n  File \"/Users/Yuquan/anaconda/lib/python3.6/site-packages/tensorflow/python/training/saver.py\", line 407, in _AddRestoreOps\n    tensors = self.restore_op(filename_tensor, saveable, preferred_shard)\n  File \"/Users/Yuquan/anaconda/lib/python3.6/site-packages/tensorflow/python/training/saver.py\", line 247, in restore_op\n    [spec.tensor.dtype])[0])\n  File \"/Users/Yuquan/anaconda/lib/python3.6/site-packages/tensorflow/python/ops/gen_io_ops.py\", line 663, in restore_v2\n    dtypes=dtypes, name=name)\n  File \"/Users/Yuquan/anaconda/lib/python3.6/site-packages/tensorflow/python/framework/op_def_library.py\", line 767, in apply_op\n    op_def=op_def)\n  File \"/Users/Yuquan/anaconda/lib/python3.6/site-packages/tensorflow/python/framework/ops.py\", line 2630, in create_op\n    original_op=self._default_original_op, op_def=op_def)\n  File \"/Users/Yuquan/anaconda/lib/python3.6/site-packages/tensorflow/python/framework/ops.py\", line 1204, in __init__\n    self._traceback = self._graph._extract_stack()  # pylint: disable=protected-access\n\nNotFoundError (see above for traceback): Unsuccessful TensorSliceReader constructor: Failed to find any matching files for /Users/Yuquan/Documents/SLAC/tutorial/cycle2-end.ckpt\n\t [[Node: save/RestoreV2_1 = RestoreV2[dtypes=[DT_FLOAT], _device=\"/job:localhost/replica:0/task:0/cpu:0\"](_arg_save/Const_0_0, save/RestoreV2_1/tensor_names, save/RestoreV2_1/shape_and_slices)]]\n",
     "output_type": "error",
     "traceback": [
      "\u001b[0;31m---------------------------------------------------------------------------\u001b[0m",
      "\u001b[0;31mNotFoundError\u001b[0m                             Traceback (most recent call last)",
      "\u001b[0;32m/Users/Yuquan/anaconda/lib/python3.6/site-packages/tensorflow/python/client/session.py\u001b[0m in \u001b[0;36m_do_call\u001b[0;34m(self, fn, *args)\u001b[0m\n\u001b[1;32m   1326\u001b[0m     \u001b[0;32mtry\u001b[0m\u001b[0;34m:\u001b[0m\u001b[0;34m\u001b[0m\u001b[0m\n\u001b[0;32m-> 1327\u001b[0;31m       \u001b[0;32mreturn\u001b[0m \u001b[0mfn\u001b[0m\u001b[0;34m(\u001b[0m\u001b[0;34m*\u001b[0m\u001b[0margs\u001b[0m\u001b[0;34m)\u001b[0m\u001b[0;34m\u001b[0m\u001b[0m\n\u001b[0m\u001b[1;32m   1328\u001b[0m     \u001b[0;32mexcept\u001b[0m \u001b[0merrors\u001b[0m\u001b[0;34m.\u001b[0m\u001b[0mOpError\u001b[0m \u001b[0;32mas\u001b[0m \u001b[0me\u001b[0m\u001b[0;34m:\u001b[0m\u001b[0;34m\u001b[0m\u001b[0m\n",
      "\u001b[0;32m/Users/Yuquan/anaconda/lib/python3.6/site-packages/tensorflow/python/client/session.py\u001b[0m in \u001b[0;36m_run_fn\u001b[0;34m(session, feed_dict, fetch_list, target_list, options, run_metadata)\u001b[0m\n\u001b[1;32m   1305\u001b[0m                                    \u001b[0mfeed_dict\u001b[0m\u001b[0;34m,\u001b[0m \u001b[0mfetch_list\u001b[0m\u001b[0;34m,\u001b[0m \u001b[0mtarget_list\u001b[0m\u001b[0;34m,\u001b[0m\u001b[0;34m\u001b[0m\u001b[0m\n\u001b[0;32m-> 1306\u001b[0;31m                                    status, run_metadata)\n\u001b[0m\u001b[1;32m   1307\u001b[0m \u001b[0;34m\u001b[0m\u001b[0m\n",
      "\u001b[0;32m/Users/Yuquan/anaconda/lib/python3.6/contextlib.py\u001b[0m in \u001b[0;36m__exit__\u001b[0;34m(self, type, value, traceback)\u001b[0m\n\u001b[1;32m     88\u001b[0m             \u001b[0;32mtry\u001b[0m\u001b[0;34m:\u001b[0m\u001b[0;34m\u001b[0m\u001b[0m\n\u001b[0;32m---> 89\u001b[0;31m                 \u001b[0mnext\u001b[0m\u001b[0;34m(\u001b[0m\u001b[0mself\u001b[0m\u001b[0;34m.\u001b[0m\u001b[0mgen\u001b[0m\u001b[0;34m)\u001b[0m\u001b[0;34m\u001b[0m\u001b[0m\n\u001b[0m\u001b[1;32m     90\u001b[0m             \u001b[0;32mexcept\u001b[0m \u001b[0mStopIteration\u001b[0m\u001b[0;34m:\u001b[0m\u001b[0;34m\u001b[0m\u001b[0m\n",
      "\u001b[0;32m/Users/Yuquan/anaconda/lib/python3.6/site-packages/tensorflow/python/framework/errors_impl.py\u001b[0m in \u001b[0;36mraise_exception_on_not_ok_status\u001b[0;34m()\u001b[0m\n\u001b[1;32m    465\u001b[0m           \u001b[0mcompat\u001b[0m\u001b[0;34m.\u001b[0m\u001b[0mas_text\u001b[0m\u001b[0;34m(\u001b[0m\u001b[0mpywrap_tensorflow\u001b[0m\u001b[0;34m.\u001b[0m\u001b[0mTF_Message\u001b[0m\u001b[0;34m(\u001b[0m\u001b[0mstatus\u001b[0m\u001b[0;34m)\u001b[0m\u001b[0;34m)\u001b[0m\u001b[0;34m,\u001b[0m\u001b[0;34m\u001b[0m\u001b[0m\n\u001b[0;32m--> 466\u001b[0;31m           pywrap_tensorflow.TF_GetCode(status))\n\u001b[0m\u001b[1;32m    467\u001b[0m   \u001b[0;32mfinally\u001b[0m\u001b[0;34m:\u001b[0m\u001b[0;34m\u001b[0m\u001b[0m\n",
      "\u001b[0;31mNotFoundError\u001b[0m: Unsuccessful TensorSliceReader constructor: Failed to find any matching files for /Users/Yuquan/Documents/SLAC/tutorial/cycle2-end.ckpt\n\t [[Node: save/RestoreV2_1 = RestoreV2[dtypes=[DT_FLOAT], _device=\"/job:localhost/replica:0/task:0/cpu:0\"](_arg_save/Const_0_0, save/RestoreV2_1/tensor_names, save/RestoreV2_1/shape_and_slices)]]",
      "\nDuring handling of the above exception, another exception occurred:\n",
      "\u001b[0;31mNotFoundError\u001b[0m                             Traceback (most recent call last)",
      "\u001b[0;32m<ipython-input-22-d3f90e22bbdc>\u001b[0m in \u001b[0;36m<module>\u001b[0;34m()\u001b[0m\n\u001b[1;32m      9\u001b[0m     \u001b[0;31m# restore the network's weights\u001b[0m\u001b[0;34m\u001b[0m\u001b[0;34m\u001b[0m\u001b[0m\n\u001b[1;32m     10\u001b[0m     \u001b[0msess\u001b[0m\u001b[0;34m.\u001b[0m\u001b[0mrun\u001b[0m\u001b[0;34m(\u001b[0m\u001b[0mtf\u001b[0m\u001b[0;34m.\u001b[0m\u001b[0mglobal_variables_initializer\u001b[0m\u001b[0;34m(\u001b[0m\u001b[0;34m)\u001b[0m\u001b[0;34m)\u001b[0m\u001b[0;34m\u001b[0m\u001b[0m\n\u001b[0;32m---> 11\u001b[0;31m     \u001b[0msaver\u001b[0m\u001b[0;34m.\u001b[0m\u001b[0mrestore\u001b[0m\u001b[0;34m(\u001b[0m\u001b[0msess\u001b[0m\u001b[0;34m,\u001b[0m\u001b[0mpath\u001b[0m \u001b[0;34m+\u001b[0m \u001b[0;34m\"cycle2-end.ckpt\"\u001b[0m\u001b[0;34m)\u001b[0m\u001b[0;34m\u001b[0m\u001b[0m\n\u001b[0m\u001b[1;32m     12\u001b[0m \u001b[0;34m\u001b[0m\u001b[0m\n\u001b[1;32m     13\u001b[0m     \u001b[0;31m# the train cycle\u001b[0m\u001b[0;34m\u001b[0m\u001b[0;34m\u001b[0m\u001b[0m\n",
      "\u001b[0;32m/Users/Yuquan/anaconda/lib/python3.6/site-packages/tensorflow/python/training/saver.py\u001b[0m in \u001b[0;36mrestore\u001b[0;34m(self, sess, save_path)\u001b[0m\n\u001b[1;32m   1558\u001b[0m     \u001b[0mlogging\u001b[0m\u001b[0;34m.\u001b[0m\u001b[0minfo\u001b[0m\u001b[0;34m(\u001b[0m\u001b[0;34m\"Restoring parameters from %s\"\u001b[0m\u001b[0;34m,\u001b[0m \u001b[0msave_path\u001b[0m\u001b[0;34m)\u001b[0m\u001b[0;34m\u001b[0m\u001b[0m\n\u001b[1;32m   1559\u001b[0m     sess.run(self.saver_def.restore_op_name,\n\u001b[0;32m-> 1560\u001b[0;31m              {self.saver_def.filename_tensor_name: save_path})\n\u001b[0m\u001b[1;32m   1561\u001b[0m \u001b[0;34m\u001b[0m\u001b[0m\n\u001b[1;32m   1562\u001b[0m   \u001b[0;34m@\u001b[0m\u001b[0mstaticmethod\u001b[0m\u001b[0;34m\u001b[0m\u001b[0m\n",
      "\u001b[0;32m/Users/Yuquan/anaconda/lib/python3.6/site-packages/tensorflow/python/client/session.py\u001b[0m in \u001b[0;36mrun\u001b[0;34m(self, fetches, feed_dict, options, run_metadata)\u001b[0m\n\u001b[1;32m    893\u001b[0m     \u001b[0;32mtry\u001b[0m\u001b[0;34m:\u001b[0m\u001b[0;34m\u001b[0m\u001b[0m\n\u001b[1;32m    894\u001b[0m       result = self._run(None, fetches, feed_dict, options_ptr,\n\u001b[0;32m--> 895\u001b[0;31m                          run_metadata_ptr)\n\u001b[0m\u001b[1;32m    896\u001b[0m       \u001b[0;32mif\u001b[0m \u001b[0mrun_metadata\u001b[0m\u001b[0;34m:\u001b[0m\u001b[0;34m\u001b[0m\u001b[0m\n\u001b[1;32m    897\u001b[0m         \u001b[0mproto_data\u001b[0m \u001b[0;34m=\u001b[0m \u001b[0mtf_session\u001b[0m\u001b[0;34m.\u001b[0m\u001b[0mTF_GetBuffer\u001b[0m\u001b[0;34m(\u001b[0m\u001b[0mrun_metadata_ptr\u001b[0m\u001b[0;34m)\u001b[0m\u001b[0;34m\u001b[0m\u001b[0m\n",
      "\u001b[0;32m/Users/Yuquan/anaconda/lib/python3.6/site-packages/tensorflow/python/client/session.py\u001b[0m in \u001b[0;36m_run\u001b[0;34m(self, handle, fetches, feed_dict, options, run_metadata)\u001b[0m\n\u001b[1;32m   1122\u001b[0m     \u001b[0;32mif\u001b[0m \u001b[0mfinal_fetches\u001b[0m \u001b[0;32mor\u001b[0m \u001b[0mfinal_targets\u001b[0m \u001b[0;32mor\u001b[0m \u001b[0;34m(\u001b[0m\u001b[0mhandle\u001b[0m \u001b[0;32mand\u001b[0m \u001b[0mfeed_dict_tensor\u001b[0m\u001b[0;34m)\u001b[0m\u001b[0;34m:\u001b[0m\u001b[0;34m\u001b[0m\u001b[0m\n\u001b[1;32m   1123\u001b[0m       results = self._do_run(handle, final_targets, final_fetches,\n\u001b[0;32m-> 1124\u001b[0;31m                              feed_dict_tensor, options, run_metadata)\n\u001b[0m\u001b[1;32m   1125\u001b[0m     \u001b[0;32melse\u001b[0m\u001b[0;34m:\u001b[0m\u001b[0;34m\u001b[0m\u001b[0m\n\u001b[1;32m   1126\u001b[0m       \u001b[0mresults\u001b[0m \u001b[0;34m=\u001b[0m \u001b[0;34m[\u001b[0m\u001b[0;34m]\u001b[0m\u001b[0;34m\u001b[0m\u001b[0m\n",
      "\u001b[0;32m/Users/Yuquan/anaconda/lib/python3.6/site-packages/tensorflow/python/client/session.py\u001b[0m in \u001b[0;36m_do_run\u001b[0;34m(self, handle, target_list, fetch_list, feed_dict, options, run_metadata)\u001b[0m\n\u001b[1;32m   1319\u001b[0m     \u001b[0;32mif\u001b[0m \u001b[0mhandle\u001b[0m \u001b[0;32mis\u001b[0m \u001b[0;32mNone\u001b[0m\u001b[0;34m:\u001b[0m\u001b[0;34m\u001b[0m\u001b[0m\n\u001b[1;32m   1320\u001b[0m       return self._do_call(_run_fn, self._session, feeds, fetches, targets,\n\u001b[0;32m-> 1321\u001b[0;31m                            options, run_metadata)\n\u001b[0m\u001b[1;32m   1322\u001b[0m     \u001b[0;32melse\u001b[0m\u001b[0;34m:\u001b[0m\u001b[0;34m\u001b[0m\u001b[0m\n\u001b[1;32m   1323\u001b[0m       \u001b[0;32mreturn\u001b[0m \u001b[0mself\u001b[0m\u001b[0;34m.\u001b[0m\u001b[0m_do_call\u001b[0m\u001b[0;34m(\u001b[0m\u001b[0m_prun_fn\u001b[0m\u001b[0;34m,\u001b[0m \u001b[0mself\u001b[0m\u001b[0;34m.\u001b[0m\u001b[0m_session\u001b[0m\u001b[0;34m,\u001b[0m \u001b[0mhandle\u001b[0m\u001b[0;34m,\u001b[0m \u001b[0mfeeds\u001b[0m\u001b[0;34m,\u001b[0m \u001b[0mfetches\u001b[0m\u001b[0;34m)\u001b[0m\u001b[0;34m\u001b[0m\u001b[0m\n",
      "\u001b[0;32m/Users/Yuquan/anaconda/lib/python3.6/site-packages/tensorflow/python/client/session.py\u001b[0m in \u001b[0;36m_do_call\u001b[0;34m(self, fn, *args)\u001b[0m\n\u001b[1;32m   1338\u001b[0m         \u001b[0;32mexcept\u001b[0m \u001b[0mKeyError\u001b[0m\u001b[0;34m:\u001b[0m\u001b[0;34m\u001b[0m\u001b[0m\n\u001b[1;32m   1339\u001b[0m           \u001b[0;32mpass\u001b[0m\u001b[0;34m\u001b[0m\u001b[0m\n\u001b[0;32m-> 1340\u001b[0;31m       \u001b[0;32mraise\u001b[0m \u001b[0mtype\u001b[0m\u001b[0;34m(\u001b[0m\u001b[0me\u001b[0m\u001b[0;34m)\u001b[0m\u001b[0;34m(\u001b[0m\u001b[0mnode_def\u001b[0m\u001b[0;34m,\u001b[0m \u001b[0mop\u001b[0m\u001b[0;34m,\u001b[0m \u001b[0mmessage\u001b[0m\u001b[0;34m)\u001b[0m\u001b[0;34m\u001b[0m\u001b[0m\n\u001b[0m\u001b[1;32m   1341\u001b[0m \u001b[0;34m\u001b[0m\u001b[0m\n\u001b[1;32m   1342\u001b[0m   \u001b[0;32mdef\u001b[0m \u001b[0m_extend_graph\u001b[0m\u001b[0;34m(\u001b[0m\u001b[0mself\u001b[0m\u001b[0;34m)\u001b[0m\u001b[0;34m:\u001b[0m\u001b[0;34m\u001b[0m\u001b[0m\n",
      "\u001b[0;31mNotFoundError\u001b[0m: Unsuccessful TensorSliceReader constructor: Failed to find any matching files for /Users/Yuquan/Documents/SLAC/tutorial/cycle2-end.ckpt\n\t [[Node: save/RestoreV2_1 = RestoreV2[dtypes=[DT_FLOAT], _device=\"/job:localhost/replica:0/task:0/cpu:0\"](_arg_save/Const_0_0, save/RestoreV2_1/tensor_names, save/RestoreV2_1/shape_and_slices)]]\n\nCaused by op 'save/RestoreV2_1', defined at:\n  File \"/Users/Yuquan/anaconda/lib/python3.6/runpy.py\", line 193, in _run_module_as_main\n    \"__main__\", mod_spec)\n  File \"/Users/Yuquan/anaconda/lib/python3.6/runpy.py\", line 85, in _run_code\n    exec(code, run_globals)\n  File \"/Users/Yuquan/anaconda/lib/python3.6/site-packages/ipykernel_launcher.py\", line 16, in <module>\n    app.launch_new_instance()\n  File \"/Users/Yuquan/anaconda/lib/python3.6/site-packages/traitlets/config/application.py\", line 658, in launch_instance\n    app.start()\n  File \"/Users/Yuquan/anaconda/lib/python3.6/site-packages/ipykernel/kernelapp.py\", line 477, in start\n    ioloop.IOLoop.instance().start()\n  File \"/Users/Yuquan/anaconda/lib/python3.6/site-packages/zmq/eventloop/ioloop.py\", line 177, in start\n    super(ZMQIOLoop, self).start()\n  File \"/Users/Yuquan/anaconda/lib/python3.6/site-packages/tornado/ioloop.py\", line 888, in start\n    handler_func(fd_obj, events)\n  File \"/Users/Yuquan/anaconda/lib/python3.6/site-packages/tornado/stack_context.py\", line 277, in null_wrapper\n    return fn(*args, **kwargs)\n  File \"/Users/Yuquan/anaconda/lib/python3.6/site-packages/zmq/eventloop/zmqstream.py\", line 440, in _handle_events\n    self._handle_recv()\n  File \"/Users/Yuquan/anaconda/lib/python3.6/site-packages/zmq/eventloop/zmqstream.py\", line 472, in _handle_recv\n    self._run_callback(callback, msg)\n  File \"/Users/Yuquan/anaconda/lib/python3.6/site-packages/zmq/eventloop/zmqstream.py\", line 414, in _run_callback\n    callback(*args, **kwargs)\n  File \"/Users/Yuquan/anaconda/lib/python3.6/site-packages/tornado/stack_context.py\", line 277, in null_wrapper\n    return fn(*args, **kwargs)\n  File \"/Users/Yuquan/anaconda/lib/python3.6/site-packages/ipykernel/kernelbase.py\", line 283, in dispatcher\n    return self.dispatch_shell(stream, msg)\n  File \"/Users/Yuquan/anaconda/lib/python3.6/site-packages/ipykernel/kernelbase.py\", line 235, in dispatch_shell\n    handler(stream, idents, msg)\n  File \"/Users/Yuquan/anaconda/lib/python3.6/site-packages/ipykernel/kernelbase.py\", line 399, in execute_request\n    user_expressions, allow_stdin)\n  File \"/Users/Yuquan/anaconda/lib/python3.6/site-packages/ipykernel/ipkernel.py\", line 196, in do_execute\n    res = shell.run_cell(code, store_history=store_history, silent=silent)\n  File \"/Users/Yuquan/anaconda/lib/python3.6/site-packages/ipykernel/zmqshell.py\", line 533, in run_cell\n    return super(ZMQInteractiveShell, self).run_cell(*args, **kwargs)\n  File \"/Users/Yuquan/anaconda/lib/python3.6/site-packages/IPython/core/interactiveshell.py\", line 2717, in run_cell\n    interactivity=interactivity, compiler=compiler, result=result)\n  File \"/Users/Yuquan/anaconda/lib/python3.6/site-packages/IPython/core/interactiveshell.py\", line 2821, in run_ast_nodes\n    if self.run_code(code, result):\n  File \"/Users/Yuquan/anaconda/lib/python3.6/site-packages/IPython/core/interactiveshell.py\", line 2881, in run_code\n    exec(code_obj, self.user_global_ns, self.user_ns)\n  File \"<ipython-input-11-18da33d742f9>\", line 1, in <module>\n    saver = tf.train.Saver()\n  File \"/Users/Yuquan/anaconda/lib/python3.6/site-packages/tensorflow/python/training/saver.py\", line 1140, in __init__\n    self.build()\n  File \"/Users/Yuquan/anaconda/lib/python3.6/site-packages/tensorflow/python/training/saver.py\", line 1172, in build\n    filename=self._filename)\n  File \"/Users/Yuquan/anaconda/lib/python3.6/site-packages/tensorflow/python/training/saver.py\", line 688, in build\n    restore_sequentially, reshape)\n  File \"/Users/Yuquan/anaconda/lib/python3.6/site-packages/tensorflow/python/training/saver.py\", line 407, in _AddRestoreOps\n    tensors = self.restore_op(filename_tensor, saveable, preferred_shard)\n  File \"/Users/Yuquan/anaconda/lib/python3.6/site-packages/tensorflow/python/training/saver.py\", line 247, in restore_op\n    [spec.tensor.dtype])[0])\n  File \"/Users/Yuquan/anaconda/lib/python3.6/site-packages/tensorflow/python/ops/gen_io_ops.py\", line 663, in restore_v2\n    dtypes=dtypes, name=name)\n  File \"/Users/Yuquan/anaconda/lib/python3.6/site-packages/tensorflow/python/framework/op_def_library.py\", line 767, in apply_op\n    op_def=op_def)\n  File \"/Users/Yuquan/anaconda/lib/python3.6/site-packages/tensorflow/python/framework/ops.py\", line 2630, in create_op\n    original_op=self._default_original_op, op_def=op_def)\n  File \"/Users/Yuquan/anaconda/lib/python3.6/site-packages/tensorflow/python/framework/ops.py\", line 1204, in __init__\n    self._traceback = self._graph._extract_stack()  # pylint: disable=protected-access\n\nNotFoundError (see above for traceback): Unsuccessful TensorSliceReader constructor: Failed to find any matching files for /Users/Yuquan/Documents/SLAC/tutorial/cycle2-end.ckpt\n\t [[Node: save/RestoreV2_1 = RestoreV2[dtypes=[DT_FLOAT], _device=\"/job:localhost/replica:0/task:0/cpu:0\"](_arg_save/Const_0_0, save/RestoreV2_1/tensor_names, save/RestoreV2_1/shape_and_slices)]]\n"
     ]
    }
   ],
   "source": [
    "# define how to train this training cycle\n",
    "batchSize = 5000\n",
    "trainSteps = 10000\n",
    "opt = tf.train.AdamOptimizer(1.0e-5)\n",
    "\n",
    "# start a TensorFlow session:\n",
    "with tf.Session() as sess:\n",
    "    \n",
    "    # restore the network's weights\n",
    "    sess.run(tf.global_variables_initializer())\n",
    "    saver.restore(sess,path + \"cycle2-end.ckpt\")\n",
    "    \n",
    "    # the train cycle\n",
    "    for i in range(trainSteps):\n",
    "        # grap a train batch\n",
    "        batch = data_train.next_batch(batchSize)\n",
    "        \n",
    "        # run the optimizier - train the net!\n",
    "        sess.run([opt_operation],feed_dict={x:batch[0],y_:batch[1],keep_prob:1.0})\n",
    "        \n",
    "        # every now and then save the weights and print some stuff\n",
    "        if i%1000 == 0:\n",
    "            save_path = saver.save(sess, path + \"check-points/temp.ckpt\")\n",
    "            print(\"step %d\"%(i))\n",
    "    \n",
    "    # end this train cycle\n",
    "    print(\"Train cycle 3 ended with a test accuracy of: {0}\".format(\"%.2f\" % mse.eval(feed_dict={x:data_test.images,y_:data_test.labels,keep_prob:1.})))\n",
    "    save_path = saver.save(sess, path + \"check-points/cycle3-end.ckpt\")"
   ]
  },
  {
   "cell_type": "code",
   "execution_count": null,
   "metadata": {
    "collapsed": true
   },
   "outputs": [],
   "source": [
    "# define how to train this training cycle\n",
    "batchSize = 15000\n",
    "trainSteps = 100000\n",
    "opt = tf.train.AdamOptimizer(1.0e-6)\n",
    "\n",
    "# start a TensorFlow session:\n",
    "with tf.Session() as sess:\n",
    "    \n",
    "    # restore the network's weights\n",
    "    sess.run(tf.global_variables_initializer())\n",
    "    saver.restore(sess,path + path + \"check-points/cycle3-end.ckpt\")\n",
    "    \n",
    "    # the train cycle\n",
    "    for i in xrange(trainSteps):\n",
    "        # grap a train batch\n",
    "        batch = data_train.next_batch(batchSize)\n",
    "        \n",
    "        # run the optimizier - train the net!\n",
    "        sess.run([opt_operation],feed_dict={x:batch[0],y_:batch[1],keep_prob:1.0})\n",
    "        \n",
    "        # every now and then save the weights and print some stuff\n",
    "        if i%1000 == 0:\n",
    "            save_path = saver.save(sess, path + \"check-points/temp.ckpt\")\n",
    "            print(\"step %d\"%(i))\n",
    "    \n",
    "    # end this train cycle\n",
    "    print(\"Train cycle 4 ended with a test accuracy of: {0}\".format(\"%.2f\" % mse.eval(feed_dict={x:data_test.images,y_:data_test.labels,keep_prob:1.})))\n",
    "    save_path = saver.save(sess, path + \"check-points/cycle4-end.ckpt\")"
   ]
  },
  {
   "cell_type": "code",
   "execution_count": null,
   "metadata": {
    "collapsed": true
   },
   "outputs": [],
   "source": []
  },
  {
   "cell_type": "code",
   "execution_count": null,
   "metadata": {
    "collapsed": true
   },
   "outputs": [],
   "source": []
  },
  {
   "cell_type": "code",
   "execution_count": null,
   "metadata": {
    "collapsed": true
   },
   "outputs": [],
   "source": []
  },
  {
   "cell_type": "code",
   "execution_count": null,
   "metadata": {
    "collapsed": true
   },
   "outputs": [],
   "source": []
  },
  {
   "cell_type": "code",
   "execution_count": null,
   "metadata": {
    "collapsed": true
   },
   "outputs": [],
   "source": []
  },
  {
   "cell_type": "code",
   "execution_count": null,
   "metadata": {
    "collapsed": true
   },
   "outputs": [],
   "source": []
  },
  {
   "cell_type": "code",
   "execution_count": null,
   "metadata": {
    "collapsed": true
   },
   "outputs": [],
   "source": []
  },
  {
   "cell_type": "code",
   "execution_count": null,
   "metadata": {
    "collapsed": true
   },
   "outputs": [],
   "source": []
  },
  {
   "cell_type": "code",
   "execution_count": null,
   "metadata": {
    "collapsed": true
   },
   "outputs": [],
   "source": []
  },
  {
   "cell_type": "code",
   "execution_count": null,
   "metadata": {
    "collapsed": true
   },
   "outputs": [],
   "source": []
  },
  {
   "cell_type": "code",
   "execution_count": null,
   "metadata": {
    "collapsed": true
   },
   "outputs": [],
   "source": []
  }
 ],
 "metadata": {
  "anaconda-cloud": {},
  "kernelspec": {
   "display_name": "Python 3",
   "language": "python",
   "name": "python3"
  },
  "language_info": {
   "codemirror_mode": {
    "name": "ipython",
    "version": 3
   },
   "file_extension": ".py",
   "mimetype": "text/x-python",
   "name": "python",
   "nbconvert_exporter": "python",
   "pygments_lexer": "ipython3",
   "version": "3.6.1"
  }
 },
 "nbformat": 4,
 "nbformat_minor": 1
}
