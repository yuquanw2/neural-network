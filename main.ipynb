{
 "cells": [
  {
   "cell_type": "markdown",
   "metadata": {},
   "source": [
    "### 1)  Import the nececary packets and tools"
   ]
  },
  {
   "cell_type": "code",
   "execution_count": 2,
   "metadata": {
    "collapsed": true
   },
   "outputs": [],
   "source": [
    "import numpy as np\n",
    "from numpy import genfromtxt\n",
    "\n",
    "import matplotlib\n",
    "matplotlib.use('agg')\n",
    "from matplotlib import pyplot as plt\n",
    "from matplotlib.colors import LogNorm\n",
    "\n",
    "import tensorflow as tf\n",
    "import Utools as utls #modified AnaTools\n",
    "import Ptools4Jup as ptls\n",
    " \n",
    "#plt.ion()  #interactive mode on\n",
    "%matplotlib inline\n"
   ]
  },
  {
   "cell_type": "markdown",
   "metadata": {},
   "source": [
    "In this tutorial you will train our vanilla (default) net - some times we refer to it as Igor's net."
   ]
  },
  {
   "cell_type": "markdown",
   "metadata": {},
   "source": [
    "### 2) Load the test data set"
   ]
  },
  {
   "cell_type": "code",
   "execution_count": 3,
   "metadata": {
    "collapsed": true
   },
   "outputs": [],
   "source": [
    "# Set the path pointing to the data files:\n",
    "path = '/Users/Yuquan/Documents/SLAC/tutorial/'"
   ]
  },
  {
   "cell_type": "code",
   "execution_count": 4,
   "metadata": {},
   "outputs": [
    {
     "name": "stdout",
     "output_type": "stream",
     "text": [
      "success\n",
      "CPU times: user 17.1 s, sys: 1.24 s, total: 18.4 s\n",
      "Wall time: 18.8 s\n"
     ]
    }
   ],
   "source": [
    "%%time\n",
    "\n",
    "# Read the .dat file and drop the header:\n",
    "test_data = utls.readBoolMike(path + 'data/test/e1chRNWFs_19.dat')\n",
    "#data_train = utls.readBoolMike(path + 'data/train/e1chRNWFs_2.dat')\n",
    "\n",
    "\n",
    "# Seperate the waveforms and the labels:\n",
    "x_test,y_test = utls.sepXY(test_data)\n",
    "\n",
    "# Make a baseline correction:\n",
    "#x_test = utls.baseCorrection(test_data)\n",
    "\n",
    "# Store the data in a DataSet object:\n",
    "data_test = utls.DataSet(x_test,y_test)\n",
    "\n",
    "print(\"success\")"
   ]
  },
  {
   "cell_type": "markdown",
   "metadata": {},
   "source": [
    "Now you can plot a waveform to see how it looks:"
   ]
  },
  {
   "cell_type": "code",
   "execution_count": 5,
   "metadata": {},
   "outputs": [
    {
     "name": "stdout",
     "output_type": "stream",
     "text": [
      "size of set: 14973\n",
      "Samlpe Number: 8705\n",
      "True energy [keV]: 0.0\n"
     ]
    },
    {
     "data": {
      "image/png": "[encoded data removed]",
      "text/plain": [
       "<matplotlib.figure.Figure at 0x117f1cba8>"
      ]
     },
     "metadata": {},
     "output_type": "display_data"
    }
   ],
   "source": [
    "sizeOfSet = data_test.images.shape[0]\n",
    "\n",
    "sample = np.random.randint(sizeOfSet)\n",
    "\n",
    "axes = plt.gca()\n",
    "axes.set_xlim([0,1000])\n",
    "axes.set_ylim([-1000,1000])\n",
    "print (\"size of set: \" + str(sizeOfSet))\n",
    "print (\"Samlpe Number: \" + str(sample))\n",
    "print (\"True energy [keV]: \" + str(y_test[sample,0]))\n",
    "fig = plt.plot(x_test[sample])"
   ]
  },
  {
   "cell_type": "markdown",
   "metadata": {},
   "source": [
    "Plot of th eenergy spectrum of the data set:"
   ]
  },
  {
   "cell_type": "code",
   "execution_count": 6,
   "metadata": {},
   "outputs": [
    {
     "name": "stdout",
     "output_type": "stream",
     "text": [
      "Loading train date: file 0\n",
      "14982\n",
      "CPU times: user 17.8 s, sys: 1.23 s, total: 19.1 s\n",
      "Wall time: 19.4 s\n"
     ]
    },
    {
     "data": {
      "image/png": "[encoded data removed]",
      "text/plain": [
       "<matplotlib.figure.Figure at 0x157685d68>"
      ]
     },
     "metadata": {},
     "output_type": "display_data"
    }
   ],
   "source": [
    "%%time\n",
    "plt.hist(y_test, 50, normed=1)\n",
    "plt.axis([50, 3000, 0, 0.00025])\n",
    "plt.show;\n",
    "\n",
    "\n",
    "#load train_data\n",
    "\n",
    "\n",
    "\n",
    "nFiles = 1\n",
    "\n",
    "train_data = np.empty((0,1001),np.float32)\n",
    "\n",
    "for i in range(nFiles):\n",
    "    print(\"Loading train date: file {0}\".format(i))\n",
    "    train_temp = utls.readBoolMike(path + 'data/train/e1chRNWFs_'+str(i)+'.dat')\n",
    "    train_data = np.append(train_data,train_temp,axis=0)\n",
    "\n",
    "x_train,y_train = utls.sepXY(train_data)\n",
    "#x_train = utls.baseCorrection(x_train)\n",
    "data_train = utls.DataSet(x_train,y_train)\n",
    "#print (\"size of set: \" + str(train_test.images.shape[0]))\n",
    "\n",
    "sizeOfSet = data_train.images.shape[0]\n",
    "\n",
    "print (sizeOfSet)\n",
    "plt.hist(y_train, 50, normed=1)\n",
    "plt.axis([50, 3000, 0, 0.00025])\n",
    "plt.show;"
   ]
  },
  {
   "cell_type": "markdown",
   "metadata": {},
   "source": [
    "### 3) Load the train data set."
   ]
  },
  {
   "cell_type": "markdown",
   "metadata": {},
   "source": [
    "This may take a while! In total there are 19 files. Here we only load 3 but you can simply change the number to 19."
   ]
  },
  {
   "cell_type": "markdown",
   "metadata": {},
   "source": [
    "\n",
    "\n"
   ]
  },
  {
   "cell_type": "markdown",
   "metadata": {},
   "source": [
    "### 4) Load the architecture of the network."
   ]
  },
  {
   "cell_type": "markdown",
   "metadata": {},
   "source": [
    "'x' is the input waveform, 'y_' the predicted label, and 'y' the ture label. The network has 7 layers - An input layer, an output layer, and 5 hidden layers. The layers are similar. They gradualy reduce the neurons from 1000 (x) to 1 (y_). All layers have a ReLu activation function. The input layer has in addition a dropout option."
   ]
  },
  {
   "cell_type": "code",
   "execution_count": 7,
   "metadata": {
    "collapsed": true
   },
   "outputs": [],
   "source": [
    "x = tf.placeholder(tf.float32,[None,1000])\n",
    "#tf.placeholder(dtype, shape=None, name=None)\n",
    "# 1000个array  构成1*1000matirx\n",
    "#print(\"success\")\n",
    "y_ = tf.placeholder(tf.float32,[None,1])\n",
    "#tf.placeholder(dtype, shape=None, name=None)\n",
    "#print(\"success\")\n",
    "# Input layer\n",
    "W0 = tf.get_variable(\"W0\",shape=[1000,500],initializer=tf.contrib.layers.xavier_initializer())\n",
    "#tf.get_variable(name, shape=None, dtype=None, \n",
    "#initializer=None, regularizer=None, trainable=True, collections=None, caching_device=None, \n",
    "#partitioner=None, validate_shape=True, custom_getter=None)\n",
    "\n",
    "#print(\"success\")\n",
    "\n",
    "\n",
    "#set a matrix  1000*500  basically1000个500大小的array\n",
    "b0 = utls.bias_var([500])\n",
    "h0 = tf.nn.relu(tf.matmul(x,W0)+b0)\n",
    "#     tf.nn.relu(features, name=None)\n",
    "\n",
    "\n",
    "keep_prob = tf.placeholder(tf.float32)\n",
    "#tf.placeholder(dtype, shape=None, name=None)\n",
    "h0_drop = tf.nn.dropout(h0,keep_prob)\n",
    "#tf.nn.dropout(x, keep_prob, noise_shape=None, seed=None, name=None)\n",
    "##each element has same posibilty to drop\n",
    "#print(\"sucess\")\n",
    "# Hidden layer 1\n",
    "W1 = tf.get_variable(\"W1\",shape=[500,200],initializer=tf.contrib.layers.xavier_initializer())\n",
    "b1 = utls.bias_var([200])\n",
    "# i guess matrix 200*200\n",
    "h1 = tf.nn.relu(tf.matmul(h0_drop,W1)+b1)\n",
    "#print(\"success\")\n",
    "\n",
    "# Hidden layer 2\n",
    "W2 = tf.get_variable(\"W2\",shape=[200,100],initializer=tf.contrib.layers.xavier_initializer())\n",
    "b2 = utls.bias_var([100])\n",
    "h2 = tf.nn.relu(tf.matmul(h1,W2)+b2)\n",
    "#print(\"success\")\n",
    "# Hidden layer 3\n",
    "W3 = tf.get_variable(\"W3\",shape=[100,40],initializer=tf.contrib.layers.xavier_initializer())\n",
    "b3 = utls.bias_var([40])\n",
    "h3 = tf.nn.relu(tf.matmul(h2,W3)+b3)\n",
    "\n",
    "# Hidden layer 4\n",
    "W4 = tf.get_variable(\"W4\",shape=[40,10],initializer=tf.contrib.layers.xavier_initializer())\n",
    "b4 = utls.bias_var([10])\n",
    "h4 = tf.nn.relu(tf.matmul(h3,W4)+b4)\n",
    "\n",
    "# Hidden layer 5\n",
    "W5 = tf.get_variable(\"W5\",shape=[10,2],initializer=tf.contrib.layers.xavier_initializer())\n",
    "b5 = utls.bias_var([2])\n",
    "h5 = tf.nn.relu(tf.matmul(h4,W5)+b5)\n",
    "\n",
    "# Output layer\n",
    "W_last = tf.get_variable(\"W_last\",shape=[2,1],initializer=tf.contrib.layers.xavier_initializer())\n",
    "b_last = utls.bias_var([1])\n",
    "y = tf.nn.relu(tf.matmul(h5,W_last)+b_last)\n",
    "\n"
   ]
  },
  {
   "cell_type": "markdown",
   "metadata": {},
   "source": [
    "### 5) Define the Mean Squar Error (MSE), the regularization, and loss."
   ]
  },
  {
   "cell_type": "code",
   "execution_count": 8,
   "metadata": {},
   "outputs": [
    {
     "name": "stdout",
     "output_type": "stream",
     "text": [
      "Tensor(\"add_20:0\", shape=(), dtype=float32)\n",
      "<class 'tensorflow.python.framework.ops.Tensor'>\n"
     ]
    }
   ],
   "source": [
    "mse = tf.reduce_mean(tf.square(y-y_))\n",
    "#tf.reduce_mean(input_tensor, axis=None, keep_dims=False, name=None, reduction_indices=None)\n",
    "\n",
    "regularizers = (tf.nn.l2_loss(W0)+tf.nn.l2_loss(b0)+tf.nn.l2_loss(W1)+tf.nn.l2_loss(b1)+\n",
    "tf.nn.l2_loss(W2)+tf.nn.l2_loss(b2)+tf.nn.l2_loss(W3)+tf.nn.l2_loss(b3)+\n",
    "tf.nn.l2_loss(W4)+tf.nn.l2_loss(b4)+tf.nn.l2_loss(W5)+tf.nn.l2_loss(b5)+\n",
    "tf.nn.l2_loss(W_last)+tf.nn.l2_loss(b_last))\n",
    "\n",
    "# dimention problems how to clculate loss with 2 more dimentions\n",
    "\n",
    "loss = mse + regularizers*1.e-4\n",
    "\n",
    "print(loss)\n",
    "print (type(loss))"
   ]
  },
  {
   "cell_type": "markdown",
   "metadata": {},
   "source": [
    "### 6) Define optimizer"
   ]
  },
  {
   "cell_type": "code",
   "execution_count": 9,
   "metadata": {
    "collapsed": true
   },
   "outputs": [],
   "source": [
    "# the optimizer itself:\n",
    "opt = tf.train.AdamOptimizer()\n",
    "\n",
    "# the vanilla operation trains the whole network\n",
    "opt_operation = opt.minimize(loss)\n",
    "#优化\n",
    "\n",
    "# this allows to train a layer individualy\n",
    "opt_operation_0 = opt.minimize(loss, var_list=[W0,b0])\n",
    "opt_operation_1 = opt.minimize(loss, var_list=[W1,b1])\n",
    "opt_operation_2 = opt.minimize(loss, var_list=[W2,b2])\n",
    "opt_operation_3 = opt.minimize(loss, var_list=[W3,b3])\n",
    "opt_operation_4 = opt.minimize(loss, var_list=[W4,b4])\n",
    "opt_operation_5 = opt.minimize(loss, var_list=[W5,b5])\n",
    "opt_operation_last = opt.minimize(loss, var_list=[W_last,b_last])"
   ]
  },
  {
   "cell_type": "markdown",
   "metadata": {},
   "source": [
    "### 7) Define a saver which allows to save and restore checkpoints of the trained newtork"
   ]
  },
  {
   "cell_type": "code",
   "execution_count": 10,
   "metadata": {
    "collapsed": true
   },
   "outputs": [],
   "source": [
    "saver = tf.train.Saver()"
   ]
  },
  {
   "cell_type": "markdown",
   "metadata": {},
   "source": [
    "### 8) Initialize all the weights of the network"
   ]
  },
  {
   "cell_type": "markdown",
   "metadata": {},
   "source": [
    "Either, random initialization of the weights.."
   ]
  },
  {
   "cell_type": "code",
   "execution_count": 11,
   "metadata": {},
   "outputs": [
    {
     "name": "stdout",
     "output_type": "stream",
     "text": [
      "Model saved in file: /Users/Yuquan/Documents/SLAC/tutorial/check-points/start.ckpt\n"
     ]
    }
   ],
   "source": [
    "# start a TensorFlow session:\n",
    "with tf.Session() as sess:\n",
    "    \n",
    "    # random initialization:\n",
    "    sess.run(tf.global_variables_initializer())\n",
    "    \n",
    "    # save the weights in a file\n",
    "    save_path = saver.save(sess, path + \"check-points/start.ckpt\")\n",
    "    print(\"Model saved in file: %s\" % save_path)"
   ]
  },
  {
   "cell_type": "markdown",
   "metadata": {},
   "source": [
    "... or a bit more sofisticated. (Some random initializated networks will not learn!)"
   ]
  },
  {
   "cell_type": "code",
   "execution_count": 12,
   "metadata": {},
   "outputs": [
    {
     "name": "stdout",
     "output_type": "stream",
     "text": [
      "test mse 992407\n",
      "test mse 742917\n",
      "test mse 992407\n",
      "test mse 992365\n",
      "test mse 992407\n",
      "test mse 992407\n",
      "test mse 992407\n",
      "test mse 992349\n",
      "test mse 992209\n",
      "test mse 992407\n",
      "test mse 992407\n",
      "test mse 992210\n",
      "test mse 992407\n",
      "test mse 992407\n",
      "test mse 743504\n",
      "test mse 992407\n",
      "test mse 744946\n",
      "test mse 992217\n",
      "test mse 992407\n",
      "test mse 765676\n",
      "test mse 748506\n",
      "test mse 992211\n",
      "test mse 992224\n",
      "test mse 992220\n",
      "test mse 745001\n",
      "test mse 992407\n",
      "test mse 992407\n",
      "test mse 992407\n",
      "test mse 992210\n",
      "test mse 992407\n",
      "test mse 992407\n",
      "test mse 992208\n",
      "test mse 741411\n",
      "test mse 992407\n",
      "test mse 992407\n",
      "test mse 992209\n",
      "test mse 755722\n",
      "test mse 744256\n",
      "test mse 992212\n",
      "test mse 740966\n",
      "test mse 992407\n",
      "test mse 743883\n",
      "test mse 992220\n",
      "test mse 744937\n",
      "test mse 992407\n",
      "test mse 744649\n",
      "test mse 992220\n",
      "test mse 768893\n",
      "test mse 992407\n",
      "test mse 992407\n",
      "test mse 992407\n",
      "test mse 746996\n",
      "test mse 743119\n",
      "test mse 743822\n",
      "test mse 742434\n",
      "test mse 992209\n",
      "test mse 992216\n",
      "test mse 744706\n",
      "test mse 992407\n",
      "test mse 992407\n",
      "test mse 744652\n",
      "test mse 744782\n",
      "test mse 992407\n",
      "test mse 992407\n",
      "test mse 992407\n",
      "test mse 741640\n",
      "test mse 992407\n",
      "test mse 992407\n",
      "test mse 992407\n",
      "test mse 992222\n",
      "test mse 992209\n",
      "test mse 992209\n",
      "test mse 744773\n",
      "test mse 992209\n",
      "test mse 801646\n",
      "test mse 992209\n",
      "test mse 992209\n",
      "test mse 745933\n",
      "test mse 992209\n",
      "test mse 992407\n",
      "test mse 992208\n",
      "test mse 992407\n",
      "test mse 992233\n",
      "test mse 992209\n",
      "test mse 742687\n",
      "test mse 992407\n",
      "test mse 744662\n",
      "test mse 989773\n",
      "test mse 992234\n",
      "test mse 771584\n",
      "test mse 992283\n",
      "test mse 745000\n",
      "test mse 744181\n"
     ]
    },
    {
     "ename": "KeyboardInterrupt",
     "evalue": "",
     "output_type": "error",
     "traceback": [
      "\u001b[0;31m---------------------------------------------------------------------------\u001b[0m",
      "\u001b[0;31mKeyboardInterrupt\u001b[0m                         Traceback (most recent call last)",
      "\u001b[0;32m<ipython-input-12-ef4ec19fb786>\u001b[0m in \u001b[0;36m<module>\u001b[0;34m()\u001b[0m\n\u001b[1;32m     12\u001b[0m         \u001b[0;32mfor\u001b[0m \u001b[0mi\u001b[0m \u001b[0;32min\u001b[0m \u001b[0mrange\u001b[0m\u001b[0;34m(\u001b[0m\u001b[0;36m100\u001b[0m\u001b[0;34m)\u001b[0m\u001b[0;34m:\u001b[0m\u001b[0;34m\u001b[0m\u001b[0m\n\u001b[1;32m     13\u001b[0m             \u001b[0mbatch\u001b[0m \u001b[0;34m=\u001b[0m \u001b[0mdata_train\u001b[0m\u001b[0;34m.\u001b[0m\u001b[0mnext_batch\u001b[0m\u001b[0;34m(\u001b[0m\u001b[0;36m500\u001b[0m\u001b[0;34m)\u001b[0m\u001b[0;34m\u001b[0m\u001b[0m\n\u001b[0;32m---> 14\u001b[0;31m             \u001b[0msess\u001b[0m\u001b[0;34m.\u001b[0m\u001b[0mrun\u001b[0m\u001b[0;34m(\u001b[0m\u001b[0;34m[\u001b[0m\u001b[0mopt_operation\u001b[0m\u001b[0;34m]\u001b[0m\u001b[0;34m,\u001b[0m\u001b[0mfeed_dict\u001b[0m\u001b[0;34m=\u001b[0m\u001b[0;34m{\u001b[0m\u001b[0mx\u001b[0m\u001b[0;34m:\u001b[0m\u001b[0mbatch\u001b[0m\u001b[0;34m[\u001b[0m\u001b[0;36m0\u001b[0m\u001b[0;34m]\u001b[0m\u001b[0;34m,\u001b[0m\u001b[0my_\u001b[0m\u001b[0;34m:\u001b[0m\u001b[0mbatch\u001b[0m\u001b[0;34m[\u001b[0m\u001b[0;36m1\u001b[0m\u001b[0;34m]\u001b[0m\u001b[0;34m,\u001b[0m\u001b[0mkeep_prob\u001b[0m\u001b[0;34m:\u001b[0m\u001b[0;36m1.0\u001b[0m\u001b[0;34m}\u001b[0m\u001b[0;34m)\u001b[0m\u001b[0;34m\u001b[0m\u001b[0m\n\u001b[0m\u001b[1;32m     15\u001b[0m \u001b[0;34m\u001b[0m\u001b[0m\n\u001b[1;32m     16\u001b[0m         \u001b[0;31m# test if the net learned\u001b[0m\u001b[0;34m\u001b[0m\u001b[0;34m\u001b[0m\u001b[0m\n",
      "\u001b[0;32m/Users/Yuquan/anaconda/lib/python3.6/site-packages/tensorflow/python/client/session.py\u001b[0m in \u001b[0;36mrun\u001b[0;34m(self, fetches, feed_dict, options, run_metadata)\u001b[0m\n\u001b[1;32m    893\u001b[0m     \u001b[0;32mtry\u001b[0m\u001b[0;34m:\u001b[0m\u001b[0;34m\u001b[0m\u001b[0m\n\u001b[1;32m    894\u001b[0m       result = self._run(None, fetches, feed_dict, options_ptr,\n\u001b[0;32m--> 895\u001b[0;31m                          run_metadata_ptr)\n\u001b[0m\u001b[1;32m    896\u001b[0m       \u001b[0;32mif\u001b[0m \u001b[0mrun_metadata\u001b[0m\u001b[0;34m:\u001b[0m\u001b[0;34m\u001b[0m\u001b[0m\n\u001b[1;32m    897\u001b[0m         \u001b[0mproto_data\u001b[0m \u001b[0;34m=\u001b[0m \u001b[0mtf_session\u001b[0m\u001b[0;34m.\u001b[0m\u001b[0mTF_GetBuffer\u001b[0m\u001b[0;34m(\u001b[0m\u001b[0mrun_metadata_ptr\u001b[0m\u001b[0;34m)\u001b[0m\u001b[0;34m\u001b[0m\u001b[0m\n",
      "\u001b[0;32m/Users/Yuquan/anaconda/lib/python3.6/site-packages/tensorflow/python/client/session.py\u001b[0m in \u001b[0;36m_run\u001b[0;34m(self, handle, fetches, feed_dict, options, run_metadata)\u001b[0m\n\u001b[1;32m   1122\u001b[0m     \u001b[0;32mif\u001b[0m \u001b[0mfinal_fetches\u001b[0m \u001b[0;32mor\u001b[0m \u001b[0mfinal_targets\u001b[0m \u001b[0;32mor\u001b[0m \u001b[0;34m(\u001b[0m\u001b[0mhandle\u001b[0m \u001b[0;32mand\u001b[0m \u001b[0mfeed_dict_tensor\u001b[0m\u001b[0;34m)\u001b[0m\u001b[0;34m:\u001b[0m\u001b[0;34m\u001b[0m\u001b[0m\n\u001b[1;32m   1123\u001b[0m       results = self._do_run(handle, final_targets, final_fetches,\n\u001b[0;32m-> 1124\u001b[0;31m                              feed_dict_tensor, options, run_metadata)\n\u001b[0m\u001b[1;32m   1125\u001b[0m     \u001b[0;32melse\u001b[0m\u001b[0;34m:\u001b[0m\u001b[0;34m\u001b[0m\u001b[0m\n\u001b[1;32m   1126\u001b[0m       \u001b[0mresults\u001b[0m \u001b[0;34m=\u001b[0m \u001b[0;34m[\u001b[0m\u001b[0;34m]\u001b[0m\u001b[0;34m\u001b[0m\u001b[0m\n",
      "\u001b[0;32m/Users/Yuquan/anaconda/lib/python3.6/site-packages/tensorflow/python/client/session.py\u001b[0m in \u001b[0;36m_do_run\u001b[0;34m(self, handle, target_list, fetch_list, feed_dict, options, run_metadata)\u001b[0m\n\u001b[1;32m   1319\u001b[0m     \u001b[0;32mif\u001b[0m \u001b[0mhandle\u001b[0m \u001b[0;32mis\u001b[0m \u001b[0;32mNone\u001b[0m\u001b[0;34m:\u001b[0m\u001b[0;34m\u001b[0m\u001b[0m\n\u001b[1;32m   1320\u001b[0m       return self._do_call(_run_fn, self._session, feeds, fetches, targets,\n\u001b[0;32m-> 1321\u001b[0;31m                            options, run_metadata)\n\u001b[0m\u001b[1;32m   1322\u001b[0m     \u001b[0;32melse\u001b[0m\u001b[0;34m:\u001b[0m\u001b[0;34m\u001b[0m\u001b[0m\n\u001b[1;32m   1323\u001b[0m       \u001b[0;32mreturn\u001b[0m \u001b[0mself\u001b[0m\u001b[0;34m.\u001b[0m\u001b[0m_do_call\u001b[0m\u001b[0;34m(\u001b[0m\u001b[0m_prun_fn\u001b[0m\u001b[0;34m,\u001b[0m \u001b[0mself\u001b[0m\u001b[0;34m.\u001b[0m\u001b[0m_session\u001b[0m\u001b[0;34m,\u001b[0m \u001b[0mhandle\u001b[0m\u001b[0;34m,\u001b[0m \u001b[0mfeeds\u001b[0m\u001b[0;34m,\u001b[0m \u001b[0mfetches\u001b[0m\u001b[0;34m)\u001b[0m\u001b[0;34m\u001b[0m\u001b[0m\n",
      "\u001b[0;32m/Users/Yuquan/anaconda/lib/python3.6/site-packages/tensorflow/python/client/session.py\u001b[0m in \u001b[0;36m_do_call\u001b[0;34m(self, fn, *args)\u001b[0m\n\u001b[1;32m   1325\u001b[0m   \u001b[0;32mdef\u001b[0m \u001b[0m_do_call\u001b[0m\u001b[0;34m(\u001b[0m\u001b[0mself\u001b[0m\u001b[0;34m,\u001b[0m \u001b[0mfn\u001b[0m\u001b[0;34m,\u001b[0m \u001b[0;34m*\u001b[0m\u001b[0margs\u001b[0m\u001b[0;34m)\u001b[0m\u001b[0;34m:\u001b[0m\u001b[0;34m\u001b[0m\u001b[0m\n\u001b[1;32m   1326\u001b[0m     \u001b[0;32mtry\u001b[0m\u001b[0;34m:\u001b[0m\u001b[0;34m\u001b[0m\u001b[0m\n\u001b[0;32m-> 1327\u001b[0;31m       \u001b[0;32mreturn\u001b[0m \u001b[0mfn\u001b[0m\u001b[0;34m(\u001b[0m\u001b[0;34m*\u001b[0m\u001b[0margs\u001b[0m\u001b[0;34m)\u001b[0m\u001b[0;34m\u001b[0m\u001b[0m\n\u001b[0m\u001b[1;32m   1328\u001b[0m     \u001b[0;32mexcept\u001b[0m \u001b[0merrors\u001b[0m\u001b[0;34m.\u001b[0m\u001b[0mOpError\u001b[0m \u001b[0;32mas\u001b[0m \u001b[0me\u001b[0m\u001b[0;34m:\u001b[0m\u001b[0;34m\u001b[0m\u001b[0m\n\u001b[1;32m   1329\u001b[0m       \u001b[0mmessage\u001b[0m \u001b[0;34m=\u001b[0m \u001b[0mcompat\u001b[0m\u001b[0;34m.\u001b[0m\u001b[0mas_text\u001b[0m\u001b[0;34m(\u001b[0m\u001b[0me\u001b[0m\u001b[0;34m.\u001b[0m\u001b[0mmessage\u001b[0m\u001b[0;34m)\u001b[0m\u001b[0;34m\u001b[0m\u001b[0m\n",
      "\u001b[0;32m/Users/Yuquan/anaconda/lib/python3.6/site-packages/tensorflow/python/client/session.py\u001b[0m in \u001b[0;36m_run_fn\u001b[0;34m(session, feed_dict, fetch_list, target_list, options, run_metadata)\u001b[0m\n\u001b[1;32m   1304\u001b[0m           return tf_session.TF_Run(session, options,\n\u001b[1;32m   1305\u001b[0m                                    \u001b[0mfeed_dict\u001b[0m\u001b[0;34m,\u001b[0m \u001b[0mfetch_list\u001b[0m\u001b[0;34m,\u001b[0m \u001b[0mtarget_list\u001b[0m\u001b[0;34m,\u001b[0m\u001b[0;34m\u001b[0m\u001b[0m\n\u001b[0;32m-> 1306\u001b[0;31m                                    status, run_metadata)\n\u001b[0m\u001b[1;32m   1307\u001b[0m \u001b[0;34m\u001b[0m\u001b[0m\n\u001b[1;32m   1308\u001b[0m     \u001b[0;32mdef\u001b[0m \u001b[0m_prun_fn\u001b[0m\u001b[0;34m(\u001b[0m\u001b[0msession\u001b[0m\u001b[0;34m,\u001b[0m \u001b[0mhandle\u001b[0m\u001b[0;34m,\u001b[0m \u001b[0mfeed_dict\u001b[0m\u001b[0;34m,\u001b[0m \u001b[0mfetch_list\u001b[0m\u001b[0;34m)\u001b[0m\u001b[0;34m:\u001b[0m\u001b[0;34m\u001b[0m\u001b[0m\n",
      "\u001b[0;31mKeyboardInterrupt\u001b[0m: "
     ]
    }
   ],
   "source": [
    "# start a TensorFlow session:\n",
    "with tf.Session() as sess:\n",
    "    Q_good_start = 0\n",
    "    \n",
    "    # this loop selects a reasonable starting point and saves it in \"start.ckpt\"\n",
    "    while Q_good_start == 0:\n",
    "        sess.run(tf.global_variables_initializer())\n",
    "        save_path = saver.save(sess, path + \"check-points/start.ckpt\")\n",
    "        \n",
    "        # this loop takes the random initialization and trains the net for 100 steps to see if it learns.\n",
    "         #batch[0],batch[1] = data_train.next_batch(500)\n",
    "        for i in range(100):\n",
    "            batch = data_train.next_batch(500)\n",
    "            sess.run([opt_operation],feed_dict={x:batch[0],y_:batch[1],keep_prob:1.0})\n",
    "        \n",
    "        # test if the net learned\n",
    "        tce = mse.eval(feed_dict={x:data_test.images,y_:data_test.labels,keep_prob:1.0},session=sess)\n",
    "        print(\"test mse %g\"%(tce))\n",
    "            \n",
    "        if tce < 500000:\n",
    "            Q_good_start = 1\n",
    "            print(\"Yay! Start saved in file: %s\" % save_path)"
   ]
  },
  {
   "cell_type": "markdown",
   "metadata": {},
   "source": [
    "### 9) Training the network!"
   ]
  },
  {
   "cell_type": "markdown",
   "metadata": {},
   "source": [
    "The first training cycle! The time used to execute this cell is measured using the magic function %%time. Note the difference in used CPU time between this cell and the next cell. Can you see why?"
   ]
  },
  {
   "cell_type": "code",
   "execution_count": null,
   "metadata": {},
   "outputs": [],
   "source": [
    "%%time\n",
    "\n",
    "# define how to train this training cycle\n",
    "batchSize = 500\n",
    "trainSteps = 5000\n",
    "\n",
    "# start a TensorFlow session:\n",
    "with tf.Session() as sess:\n",
    "    \n",
    "    # restore the network's weights\n",
    "    sess.run(tf.global_variables_initializer())\n",
    "    saver.restore(sess,path + \"check-points/start.ckpt\")\n",
    "    \n",
    "    # the train cycle\n",
    "    for i in range(trainSteps):\n",
    "        # grap a train batch\n",
    "        batch = data_train.next_batch(batchSize)\n",
    "        \n",
    "        # run the optimizier - train the net!\n",
    "        sess.run([opt_operation],feed_dict={x:batch[0],y_:batch[1],keep_prob:1.0})\n",
    "        \n",
    "        # every now and then save the weights and print some stuff\n",
    "        if i%1000 == 0:\n",
    "            save_path = saver.save(sess, path + \"check-points/temp.ckpt\")\n",
    "            print(\"step %d\"%(i))\n",
    "    \n",
    "    # end this train cycle\n",
    "    print(\"Train cycle 1 ended with a test accuracy of: {0}\".format(\"%.2f\" % mse.eval(feed_dict={x:data_test.images,y_:data_test.labels,keep_prob:1.})))\n",
    "    save_path = saver.save(sess, path + \"check-points/cycle1-end.ckpt\")"
   ]
  },
  {
   "cell_type": "markdown",
   "metadata": {},
   "source": [
    "... or you can add some plots to the training. This helps to see what happend during training."
   ]
  },
  {
   "cell_type": "code",
   "execution_count": null,
   "metadata": {},
   "outputs": [],
   "source": [
    "%%time\n",
    "\n",
    "sizeOfSet = data_train.images.shape[0]\n",
    "train_time = []\n",
    "i=0\n",
    "trainloss = []\n",
    "testloss = []\n",
    "cycleID = 1\n",
    "\n",
    "# define how to train this training cycle\n",
    "batchSize = 500\n",
    "trainSteps = 5000\n",
    "\n",
    "# start a TensorFlow session:\n",
    "with tf.Session() as sess:\n",
    "    \n",
    "    # restore the network's weights\n",
    "    sess.run(tf.global_variables_initializer())\n",
    "    saver.restore(sess,path + \"check-points/start.ckpt\")\n",
    "    \n",
    "    # the train cycle\n",
    "    for j in xrange(trainSteps):\n",
    "        # grap a train batch\n",
    "        batch = data_train.next_batch(batchSize)\n",
    "        \n",
    "        # run the optimizier - train the net!\n",
    "        sess.run([opt_operation],feed_dict={x:batch[0],y_:batch[1],keep_prob:1.0})\n",
    "        \n",
    "        # count how many samples were used to train\n",
    "        i += batchSize\n",
    "        \n",
    "        # every now and then save the weights and print some stuff\n",
    "        if j%100 == 0:\n",
    "            save_path = saver.save(sess, path + \"check-points/temp.ckpt\")\n",
    "            \n",
    "            train_mse = mse.eval(feed_dict={x:data_train.images,y_:data_train.labels,keep_prob:1.0},session=sess)\n",
    "            trainloss.append(train_mse)\n",
    "            test_mse = mse.eval(feed_dict={x:data_test.images,y_:data_test.labels,keep_prob:1.0},session=sess)\n",
    "            testloss.append(test_mse)\n",
    "            train_time.append(float(i)/sizeOfSet)\n",
    "\n",
    "            if j%1000 == 0:\n",
    "                # ploting output:\n",
    "                ptls.PrintInfo(j,test_mse)\n",
    "                print(\"success\")\n",
    "        \n",
    "    # end this train cycle\n",
    "    print(\"Train cycle 1 ended with a test accuracy of: {0}\".format(\"%.2f\" % mse.eval(feed_dict={x:data_test.images,y_:data_test.labels,keep_prob:1.})))\n",
    "    save_path = saver.save(sess, path + \"check-points/cycle1-end.ckpt\")\n",
    "    \n",
    "    # learning rate plot\n",
    "    ptls.MSEHist(cycleID,trainloss,testloss,train_time)"
   ]
  },
  {
   "cell_type": "markdown",
   "metadata": {},
   "source": [
    "The subsequent training cycles: (BUT don't do this as it may take very long!)"
   ]
  },
  {
   "cell_type": "code",
   "execution_count": null,
   "metadata": {
    "collapsed": true
   },
   "outputs": [],
   "source": [
    "# define how to train this training cycle\n",
    "batchSize = 1000\n",
    "trainSteps = 1000\n",
    "opt = tf.train.AdamOptimizer(1.0e-4)\n",
    "\n",
    "# start a TensorFlow session:\n",
    "with tf.Session() as sess:\n",
    "    \n",
    "    # restore the network's weights\n",
    "    sess.run(tf.global_variables_initializer())\n",
    "    saver.restore(sess,path + \"check-points/cycle1-end.ckpt\")\n",
    "    \n",
    "    # the train cycle\n",
    "    for i in xrange(trainSteps):\n",
    "        # grap a train batch\n",
    "        batch = data_train.next_batch(batchSize)\n",
    "        \n",
    "        # run the optimizier - train the net!\n",
    "        sess.run([opt_operation],feed_dict={x:batch[0],y_:batch[1],keep_prob:1.0})\n",
    "        \n",
    "        # every now and then save the weights and print some stuff\n",
    "        if i%100 == 0:\n",
    "            save_path = saver.save(sess, \"temp.ckpt\")\n",
    "            print(\"step %d\"%(i))\n",
    "    \n",
    "    # end this train cycle\n",
    "    print(\"Train cycle 2 ended with a test accuracy of: {0}\".format(\"%.2f\" % mse.eval(feed_dict={x:data_test.images,y_:data_test.labels,keep_prob:1.})))\n",
    "    save_path = saver.save(sess, \"cycle2-end.ckpt\")"
   ]
  },
  {
   "cell_type": "code",
   "execution_count": null,
   "metadata": {
    "collapsed": true
   },
   "outputs": [],
   "source": [
    "# define how to train this training cycle\n",
    "batchSize = 5000\n",
    "trainSteps = 10000\n",
    "opt = tf.train.AdamOptimizer(1.0e-5)\n",
    "\n",
    "# start a TensorFlow session:\n",
    "with tf.Session() as sess:\n",
    "    \n",
    "    # restore the network's weights\n",
    "    sess.run(tf.global_variables_initializer())\n",
    "    saver.restore(sess,path + \"cycle2-end.ckpt\")\n",
    "    \n",
    "    # the train cycle\n",
    "    for i in xrange(trainSteps):\n",
    "        # grap a train batch\n",
    "        batch = data_train.next_batch(batchSize)\n",
    "        \n",
    "        # run the optimizier - train the net!\n",
    "        sess.run([opt_operation],feed_dict={x:batch[0],y_:batch[1],keep_prob:1.0})\n",
    "        \n",
    "        # every now and then save the weights and print some stuff\n",
    "        if i%1000 == 0:\n",
    "            save_path = saver.save(sess, path + \"check-points/temp.ckpt\")\n",
    "            print(\"step %d\"%(i))\n",
    "    \n",
    "    # end this train cycle\n",
    "    print(\"Train cycle 3 ended with a test accuracy of: {0}\".format(\"%.2f\" % mse.eval(feed_dict={x:data_test.images,y_:data_test.labels,keep_prob:1.})))\n",
    "    save_path = saver.save(sess, path + \"check-points/cycle3-end.ckpt\")"
   ]
  },
  {
   "cell_type": "code",
   "execution_count": null,
   "metadata": {
    "collapsed": true
   },
   "outputs": [],
   "source": [
    "# define how to train this training cycle\n",
    "batchSize = 15000\n",
    "trainSteps = 100000\n",
    "opt = tf.train.AdamOptimizer(1.0e-6)\n",
    "\n",
    "# start a TensorFlow session:\n",
    "with tf.Session() as sess:\n",
    "    \n",
    "    # restore the network's weights\n",
    "    sess.run(tf.global_variables_initializer())\n",
    "    saver.restore(sess,path + path + \"check-points/cycle3-end.ckpt\")\n",
    "    \n",
    "    # the train cycle\n",
    "    for i in xrange(trainSteps):\n",
    "        # grap a train batch\n",
    "        batch = data_train.next_batch(batchSize)\n",
    "        \n",
    "        # run the optimizier - train the net!\n",
    "        sess.run([opt_operation],feed_dict={x:batch[0],y_:batch[1],keep_prob:1.0})\n",
    "        \n",
    "        # every now and then save the weights and print some stuff\n",
    "        if i%1000 == 0:\n",
    "            save_path = saver.save(sess, path + \"check-points/temp.ckpt\")\n",
    "            print(\"step %d\"%(i))\n",
    "    \n",
    "    # end this train cycle\n",
    "    print(\"Train cycle 4 ended with a test accuracy of: {0}\".format(\"%.2f\" % mse.eval(feed_dict={x:data_test.images,y_:data_test.labels,keep_prob:1.})))\n",
    "    save_path = saver.save(sess, path + \"check-points/cycle4-end.ckpt\")"
   ]
  },
  {
   "cell_type": "code",
   "execution_count": null,
   "metadata": {
    "collapsed": true
   },
   "outputs": [],
   "source": []
  },
  {
   "cell_type": "code",
   "execution_count": null,
   "metadata": {
    "collapsed": true
   },
   "outputs": [],
   "source": []
  },
  {
   "cell_type": "code",
   "execution_count": null,
   "metadata": {
    "collapsed": true
   },
   "outputs": [],
   "source": []
  },
  {
   "cell_type": "code",
   "execution_count": null,
   "metadata": {
    "collapsed": true
   },
   "outputs": [],
   "source": []
  },
  {
   "cell_type": "code",
   "execution_count": null,
   "metadata": {
    "collapsed": true
   },
   "outputs": [],
   "source": []
  }
 ],
 "metadata": {
  "anaconda-cloud": {},
  "kernelspec": {
   "display_name": "Python 3",
   "language": "python",
   "name": "python3"
  },
  "language_info": {
   "codemirror_mode": {
    "name": "ipython",
    "version": 3
   },
   "file_extension": ".py",
   "mimetype": "text/x-python",
   "name": "python",
   "nbconvert_exporter": "python",
   "pygments_lexer": "ipython3",
   "version": "3.6.1"
  }
 },
 "nbformat": 4,
 "nbformat_minor": 1
}
